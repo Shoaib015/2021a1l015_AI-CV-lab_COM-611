{
 "cells": [
  {
   "cell_type": "code",
   "execution_count": 9,
   "id": "588a7f48",
   "metadata": {},
   "outputs": [],
   "source": [
    "# Importing Libraries\n",
    "import pandas as pd\n",
    "import numpy as np"
   ]
  },
  {
   "cell_type": "code",
   "execution_count": 11,
   "id": "cb2294fc",
   "metadata": {},
   "outputs": [
    {
     "name": "stdout",
     "output_type": "stream",
     "text": [
      "  Citation    Size In Library       Price Editions  Buy\n",
      "0    Some    Small         no  affordable     many   no\n",
      "1     Many     Big         no   expensive      one  yes\n",
      "2    Some      Big     always   expensive      few   no\n",
      "3     Many  Medium         no   expensive     many  yes\n",
      "4     Many   Small         no  affordable     many  yes\n"
     ]
    }
   ],
   "source": [
    "#Uploading data set\n",
    "data = pd.read_csv('task_03.csv')\n",
    "print(data)"
   ]
  },
  {
   "cell_type": "code",
   "execution_count": 12,
   "id": "4403d9d8",
   "metadata": {},
   "outputs": [
    {
     "name": "stdout",
     "output_type": "stream",
     "text": [
      "[['Some ' 'Small' 'no' 'affordable' 'many']\n",
      " ['Many' 'Big' 'no' 'expensive' 'one']\n",
      " ['Some ' 'Big' 'always' 'expensive' 'few']\n",
      " ['Many' 'Medium' 'no' 'expensive' 'many']\n",
      " ['Many' 'Small' 'no' 'affordable' 'many']]\n"
     ]
    }
   ],
   "source": [
    " #Creating array excluding the last column\n",
    "concepts = np.array(data)[:,:-1]\n",
    "print(concepts)"
   ]
  },
  {
   "cell_type": "code",
   "execution_count": 13,
   "id": "b553a338",
   "metadata": {},
   "outputs": [
    {
     "name": "stdout",
     "output_type": "stream",
     "text": [
      "['no' 'yes' 'no' 'yes' 'yes']\n"
     ]
    }
   ],
   "source": [
    "# Creating the target variable\n",
    "target = np.array(data)[:,-1]\n",
    "print(target)"
   ]
  },
  {
   "cell_type": "code",
   "execution_count": 20,
   "id": "83bf959e",
   "metadata": {},
   "outputs": [],
   "source": [
    "#Running the code with training data set\n",
    "def train(con,tar):\n",
    "    for i,val in enumerate(tar):\n",
    "        if val=='yes':\n",
    "            specific_h = con[i].copy()\n",
    "            break\n",
    "            \n",
    "    for i,val in enumerate(con):\n",
    "        if tar[i]=='yes':\n",
    "            for x in range(len(specific_h)):\n",
    "                if val[x] != specific_h[x]:\n",
    "                    specific_h[x] = '?'\n",
    "                \n",
    "                else:\n",
    "                    pass\n",
    "    return specific_h\n"
   ]
  },
  {
   "cell_type": "code",
   "execution_count": 21,
   "id": "3269bcec",
   "metadata": {},
   "outputs": [
    {
     "name": "stdout",
     "output_type": "stream",
     "text": [
      "['Many' '?' 'no' '?' '?']\n"
     ]
    }
   ],
   "source": [
    "#Generating the output\n",
    "print(train(concepts,target))"
   ]
  },
  {
   "cell_type": "code",
   "execution_count": null,
   "id": "0e3b0802",
   "metadata": {},
   "outputs": [],
   "source": []
  }
 ],
 "metadata": {
  "kernelspec": {
   "display_name": "Python 3 (ipykernel)",
   "language": "python",
   "name": "python3"
  },
  "language_info": {
   "codemirror_mode": {
    "name": "ipython",
    "version": 3
   },
   "file_extension": ".py",
   "mimetype": "text/x-python",
   "name": "python",
   "nbconvert_exporter": "python",
   "pygments_lexer": "ipython3",
   "version": "3.9.12"
  }
 },
 "nbformat": 4,
 "nbformat_minor": 5
}
